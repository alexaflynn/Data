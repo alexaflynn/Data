{
  "nbformat": 4,
  "nbformat_minor": 0,
  "metadata": {
    "colab": {
      "provenance": [],
      "authorship_tag": "ABX9TyN+Klgs0lybiz1veL3bKNXR",
      "include_colab_link": true
    },
    "kernelspec": {
      "name": "python3",
      "display_name": "Python 3"
    },
    "language_info": {
      "name": "python"
    }
  },
  "cells": [
    {
      "cell_type": "markdown",
      "metadata": {
        "id": "view-in-github",
        "colab_type": "text"
      },
      "source": [
        "<a href=\"https://colab.research.google.com/github/alexaflynn/Data/blob/main/Flynn_Lab_3.ipynb\" target=\"_parent\"><img src=\"https://colab.research.google.com/assets/colab-badge.svg\" alt=\"Open In Colab\"/></a>"
      ]
    },
    {
      "cell_type": "markdown",
      "source": [
        "# Loops"
      ],
      "metadata": {
        "id": "rWcAHVWq-LLJ"
      }
    },
    {
      "cell_type": "code",
      "source": [
        "for i in range(10):\n",
        "  print(i)"
      ],
      "metadata": {
        "colab": {
          "base_uri": "https://localhost:8080/"
        },
        "id": "pPqHhHam-SRH",
        "outputId": "336cff4e-9829-4bf6-b2dc-196bfa339aa8"
      },
      "execution_count": 1,
      "outputs": [
        {
          "output_type": "stream",
          "name": "stdout",
          "text": [
            "0\n",
            "1\n",
            "2\n",
            "3\n",
            "4\n",
            "5\n",
            "6\n",
            "7\n",
            "8\n",
            "9\n"
          ]
        }
      ]
    },
    {
      "cell_type": "code",
      "source": [
        "for i in range(5,8):\n",
        "  print(i)"
      ],
      "metadata": {
        "colab": {
          "base_uri": "https://localhost:8080/"
        },
        "id": "4yQNmOmm-Zp4",
        "outputId": "997e6081-2771-47b7-c2ee-5655879750e1"
      },
      "execution_count": 2,
      "outputs": [
        {
          "output_type": "stream",
          "name": "stdout",
          "text": [
            "5\n",
            "6\n",
            "7\n"
          ]
        }
      ]
    },
    {
      "cell_type": "code",
      "source": [
        "for i in range(3):\n",
        "  print(\"Test Number: \", i)"
      ],
      "metadata": {
        "colab": {
          "base_uri": "https://localhost:8080/"
        },
        "id": "NtuSz4_X-zNg",
        "outputId": "bf21cdf1-2803-4fca-85b7-be3217dbe80a"
      },
      "execution_count": 4,
      "outputs": [
        {
          "output_type": "stream",
          "name": "stdout",
          "text": [
            "Test Number:  0\n",
            "Test Number:  1\n",
            "Test Number:  2\n"
          ]
        }
      ]
    },
    {
      "cell_type": "markdown",
      "source": [
        "# Functions"
      ],
      "metadata": {
        "id": "ZOQCmVxU_YOv"
      }
    },
    {
      "cell_type": "code",
      "source": [
        "def square(x):\n",
        "    return x**2"
      ],
      "metadata": {
        "id": "ZK3IvDkh--wA"
      },
      "execution_count": 5,
      "outputs": []
    },
    {
      "cell_type": "code",
      "source": [
        "square(5)"
      ],
      "metadata": {
        "colab": {
          "base_uri": "https://localhost:8080/"
        },
        "id": "upKJad1h_gqA",
        "outputId": "df97605b-ce2b-4666-d6be-aee64bb27a44"
      },
      "execution_count": 6,
      "outputs": [
        {
          "output_type": "execute_result",
          "data": {
            "text/plain": [
              "25"
            ]
          },
          "metadata": {},
          "execution_count": 6
        }
      ]
    },
    {
      "cell_type": "code",
      "source": [
        "square(6)"
      ],
      "metadata": {
        "colab": {
          "base_uri": "https://localhost:8080/"
        },
        "id": "aG26-nGv_jB_",
        "outputId": "c26d2e47-3147-4e5c-80de-06c33886ef0a"
      },
      "execution_count": 7,
      "outputs": [
        {
          "output_type": "execute_result",
          "data": {
            "text/plain": [
              "36"
            ]
          },
          "metadata": {},
          "execution_count": 7
        }
      ]
    },
    {
      "cell_type": "code",
      "source": [
        "square(square(5))"
      ],
      "metadata": {
        "colab": {
          "base_uri": "https://localhost:8080/"
        },
        "id": "V5lIjPrJ_xLw",
        "outputId": "e9aa4253-199b-4d69-b3d5-c494cbb37093"
      },
      "execution_count": 8,
      "outputs": [
        {
          "output_type": "execute_result",
          "data": {
            "text/plain": [
              "625"
            ]
          },
          "metadata": {},
          "execution_count": 8
        }
      ]
    },
    {
      "cell_type": "code",
      "source": [
        "def add_two(x):\n",
        "    return x+2"
      ],
      "metadata": {
        "id": "XbWaRymG_1Sg"
      },
      "execution_count": 9,
      "outputs": []
    },
    {
      "cell_type": "code",
      "source": [
        "add_two(5)"
      ],
      "metadata": {
        "colab": {
          "base_uri": "https://localhost:8080/"
        },
        "id": "VZapiArAAUyg",
        "outputId": "b1721def-ee55-4d5e-fe40-50827c9a1697"
      },
      "execution_count": 10,
      "outputs": [
        {
          "output_type": "execute_result",
          "data": {
            "text/plain": [
              "7"
            ]
          },
          "metadata": {},
          "execution_count": 10
        }
      ]
    },
    {
      "cell_type": "markdown",
      "source": [
        "# Logical Branching"
      ],
      "metadata": {
        "id": "hm_wNbNCAeeI"
      }
    },
    {
      "cell_type": "code",
      "source": [
        "choice = \"apple\""
      ],
      "metadata": {
        "id": "XtYBNZrwAWpv"
      },
      "execution_count": 11,
      "outputs": []
    },
    {
      "cell_type": "code",
      "source": [
        "if choice == \"apple\":\n",
        "\n",
        "    print(\"You choose apples.\")\n",
        "\n",
        "else:\n",
        "    print(\"You did not choose apples.\")"
      ],
      "metadata": {
        "colab": {
          "base_uri": "https://localhost:8080/"
        },
        "id": "yNT0bJ4vAkcu",
        "outputId": "a33c9a20-bfbf-459e-cbce-961f7052b719"
      },
      "execution_count": 15,
      "outputs": [
        {
          "output_type": "stream",
          "name": "stdout",
          "text": [
            "You choose apples.\n"
          ]
        }
      ]
    },
    {
      "cell_type": "code",
      "source": [
        "choice = \"orange\""
      ],
      "metadata": {
        "id": "6zsXMjlNAmh-"
      },
      "execution_count": 16,
      "outputs": []
    },
    {
      "cell_type": "code",
      "source": [
        "if choice == \"apple\":\n",
        "\n",
        "    print(\"You choose apples.\")\n",
        "\n",
        "elif choice == \"orange\":\n",
        "\n",
        "    print(\"You choose oranges.\")\n",
        "\n",
        "else:\n",
        "\n",
        "    print(\"You did not choose apples or oranges.\")"
      ],
      "metadata": {
        "colab": {
          "base_uri": "https://localhost:8080/"
        },
        "id": "jeCZn0WbA6sR",
        "outputId": "a6af0c9a-c263-409e-eab5-3bb9b598a5c6"
      },
      "execution_count": 17,
      "outputs": [
        {
          "output_type": "stream",
          "name": "stdout",
          "text": [
            "You choose oranges.\n"
          ]
        }
      ]
    },
    {
      "cell_type": "code",
      "source": [
        "if choice == \"apple\":\n",
        "\n",
        "    print(\"You choose apples.\")\n",
        "    print(\"Thank you, shop again!\")\n",
        "\n",
        "elif choice == \"orange\":\n",
        "\n",
        "    print(\"You choose oranges.\")\n",
        "    print(\"Thank you, shop again!\")\n",
        "\n",
        "else:\n",
        "\n",
        "    print(\"You did not choose apples or oranges.\")\n",
        "    print(\"Thank you, shop again!\")"
      ],
      "metadata": {
        "colab": {
          "base_uri": "https://localhost:8080/"
        },
        "id": "6aD3gN6FBU6i",
        "outputId": "85af0e3f-6427-4ea3-ba55-4d882317c7f9"
      },
      "execution_count": 18,
      "outputs": [
        {
          "output_type": "stream",
          "name": "stdout",
          "text": [
            "You choose oranges.\n",
            "Thank you, shop again!\n"
          ]
        }
      ]
    },
    {
      "cell_type": "markdown",
      "source": [
        "# User Input"
      ],
      "metadata": {
        "id": "a2NA8gfGCJjc"
      }
    },
    {
      "cell_type": "code",
      "source": [
        "choice = input(\"Please enter your choice (i.e. apple):\")"
      ],
      "metadata": {
        "colab": {
          "base_uri": "https://localhost:8080/"
        },
        "id": "i9-7uXWlB5zE",
        "outputId": "adb73b91-5616-464e-8c1d-156d639d73fd"
      },
      "execution_count": 20,
      "outputs": [
        {
          "name": "stdout",
          "output_type": "stream",
          "text": [
            "Please enter your choice (i.e. apple):orange\n"
          ]
        }
      ]
    },
    {
      "cell_type": "code",
      "source": [
        "choice"
      ],
      "metadata": {
        "colab": {
          "base_uri": "https://localhost:8080/",
          "height": 35
        },
        "id": "wGzgBTEUCRRU",
        "outputId": "04d03d1d-1a29-4a12-89ab-d14ea4285ac1"
      },
      "execution_count": 21,
      "outputs": [
        {
          "output_type": "execute_result",
          "data": {
            "text/plain": [
              "'orange'"
            ],
            "application/vnd.google.colaboratory.intrinsic+json": {
              "type": "string"
            }
          },
          "metadata": {},
          "execution_count": 21
        }
      ]
    },
    {
      "cell_type": "code",
      "source": [
        "if choice == \"apple\":\n",
        "\n",
        "    print(\"You choose apples.\")\n",
        "    print(\"Thank you, shop again!\")\n",
        "\n",
        "elif choice == \"orange\":\n",
        "\n",
        "    print(\"You choose oranges.\")\n",
        "    print(\"Thank you, shop again!\")\n",
        "\n",
        "else:\n",
        "\n",
        "    print(\"You did not choose apples or oranges.\")\n",
        "    print(\"Thank you, shop again!\")"
      ],
      "metadata": {
        "colab": {
          "base_uri": "https://localhost:8080/"
        },
        "id": "-D1x_VAYCgcT",
        "outputId": "2a3d57ce-64ce-4473-96e7-a54156feeaee"
      },
      "execution_count": 22,
      "outputs": [
        {
          "output_type": "stream",
          "name": "stdout",
          "text": [
            "You choose oranges.\n",
            "Thank you, shop again!\n"
          ]
        }
      ]
    },
    {
      "cell_type": "code",
      "source": [
        "import numpy as np"
      ],
      "metadata": {
        "id": "eo3ea1lbCmYU"
      },
      "execution_count": 23,
      "outputs": []
    },
    {
      "cell_type": "code",
      "source": [
        "np.random.permutation(52)"
      ],
      "metadata": {
        "colab": {
          "base_uri": "https://localhost:8080/"
        },
        "id": "IMS-MiR9C_DU",
        "outputId": "b3e5506b-9e7c-4a4c-ff0c-1ed5c6cbd98d"
      },
      "execution_count": 26,
      "outputs": [
        {
          "output_type": "execute_result",
          "data": {
            "text/plain": [
              "array([39, 27, 22, 32, 13, 43, 33, 21, 47, 12,  6,  4, 37, 38, 17,  3, 19,\n",
              "       36, 51, 48, 10, 16,  0, 15, 25, 50, 28,  1,  9, 49, 44, 31,  8, 30,\n",
              "       26, 35, 41,  5, 20, 42, 24, 23, 11,  2, 45, 29, 46, 34, 40, 18, 14,\n",
              "        7])"
            ]
          },
          "metadata": {},
          "execution_count": 26
        }
      ]
    },
    {
      "cell_type": "code",
      "source": [
        " cards = np.random.permutation(52)"
      ],
      "metadata": {
        "id": "7svCbDkNDIJk"
      },
      "execution_count": 27,
      "outputs": []
    },
    {
      "cell_type": "code",
      "source": [
        "cards"
      ],
      "metadata": {
        "colab": {
          "base_uri": "https://localhost:8080/"
        },
        "id": "QNk15TMzDfQk",
        "outputId": "74368fa4-5993-4e86-9148-22dfdcfe9472"
      },
      "execution_count": 28,
      "outputs": [
        {
          "output_type": "execute_result",
          "data": {
            "text/plain": [
              "array([24, 10, 51, 15,  4, 34,  5,  8, 33, 46, 12, 45,  9, 40, 21, 50, 39,\n",
              "       27, 11, 16, 47, 20, 44,  1,  7,  3, 29,  0, 48, 37, 17, 25,  6, 43,\n",
              "       14, 32, 18, 36, 19, 35, 49,  2, 31, 41, 22, 26, 42, 30, 23, 38, 28,\n",
              "       13])"
            ]
          },
          "metadata": {},
          "execution_count": 28
        }
      ]
    },
    {
      "cell_type": "code",
      "source": [
        "cards[0]"
      ],
      "metadata": {
        "colab": {
          "base_uri": "https://localhost:8080/"
        },
        "id": "sYeXhMFODgpk",
        "outputId": "719fa7c0-def3-4802-a507-91b5ddb60137"
      },
      "execution_count": 29,
      "outputs": [
        {
          "output_type": "execute_result",
          "data": {
            "text/plain": [
              "24"
            ]
          },
          "metadata": {},
          "execution_count": 29
        }
      ]
    },
    {
      "cell_type": "code",
      "source": [
        "cards[5]"
      ],
      "metadata": {
        "colab": {
          "base_uri": "https://localhost:8080/"
        },
        "id": "7VcljN3dDi10",
        "outputId": "d64a82cb-0820-4c27-ea04-d578e847ff84"
      },
      "execution_count": 30,
      "outputs": [
        {
          "output_type": "execute_result",
          "data": {
            "text/plain": [
              "34"
            ]
          },
          "metadata": {},
          "execution_count": 30
        }
      ]
    },
    {
      "cell_type": "markdown",
      "source": [
        "<img src='http://www.milefoot.com/math/discrete/counting/images/cards.png'>"
      ],
      "metadata": {
        "id": "IC_97ypGDxTu"
      }
    },
    {
      "cell_type": "code",
      "source": [
        "np.arange(52).reshape(4,13)"
      ],
      "metadata": {
        "colab": {
          "base_uri": "https://localhost:8080/"
        },
        "id": "Vt0ZuuJ7EB-E",
        "outputId": "e57d3fd7-8a9e-427f-ca77-b64db669af74"
      },
      "execution_count": 32,
      "outputs": [
        {
          "output_type": "execute_result",
          "data": {
            "text/plain": [
              "array([[ 0,  1,  2,  3,  4,  5,  6,  7,  8,  9, 10, 11, 12],\n",
              "       [13, 14, 15, 16, 17, 18, 19, 20, 21, 22, 23, 24, 25],\n",
              "       [26, 27, 28, 29, 30, 31, 32, 33, 34, 35, 36, 37, 38],\n",
              "       [39, 40, 41, 42, 43, 44, 45, 46, 47, 48, 49, 50, 51]])"
            ]
          },
          "metadata": {},
          "execution_count": 32
        }
      ]
    },
    {
      "cell_type": "code",
      "source": [
        "np.arange(52).reshape(4,13)%13"
      ],
      "metadata": {
        "colab": {
          "base_uri": "https://localhost:8080/"
        },
        "id": "DpQNa1kCEpfE",
        "outputId": "fb08221a-b0b4-48e4-ccb1-cb2a887e6684"
      },
      "execution_count": 33,
      "outputs": [
        {
          "output_type": "execute_result",
          "data": {
            "text/plain": [
              "array([[ 0,  1,  2,  3,  4,  5,  6,  7,  8,  9, 10, 11, 12],\n",
              "       [ 0,  1,  2,  3,  4,  5,  6,  7,  8,  9, 10, 11, 12],\n",
              "       [ 0,  1,  2,  3,  4,  5,  6,  7,  8,  9, 10, 11, 12],\n",
              "       [ 0,  1,  2,  3,  4,  5,  6,  7,  8,  9, 10, 11, 12]])"
            ]
          },
          "metadata": {},
          "execution_count": 33
        }
      ]
    },
    {
      "cell_type": "code",
      "source": [
        "np.arange(52).reshape(4,13)//13"
      ],
      "metadata": {
        "colab": {
          "base_uri": "https://localhost:8080/"
        },
        "id": "wx32m1-gFQmG",
        "outputId": "641dacaa-8ae8-4769-c363-c298be216780"
      },
      "execution_count": 34,
      "outputs": [
        {
          "output_type": "execute_result",
          "data": {
            "text/plain": [
              "array([[0, 0, 0, 0, 0, 0, 0, 0, 0, 0, 0, 0, 0],\n",
              "       [1, 1, 1, 1, 1, 1, 1, 1, 1, 1, 1, 1, 1],\n",
              "       [2, 2, 2, 2, 2, 2, 2, 2, 2, 2, 2, 2, 2],\n",
              "       [3, 3, 3, 3, 3, 3, 3, 3, 3, 3, 3, 3, 3]])"
            ]
          },
          "metadata": {},
          "execution_count": 34
        }
      ]
    },
    {
      "cell_type": "code",
      "source": [
        "suits = ['Clubs','Spades','Hearts','Diamonds']\n",
        "names = ['Ace','Two','Three','Four','Five','Six','Seven','Eight','Nine','Ten','Jack','Queen','King']"
      ],
      "metadata": {
        "id": "-oHYJY_LFbnW"
      },
      "execution_count": 35,
      "outputs": []
    },
    {
      "cell_type": "code",
      "source": [
        "suits"
      ],
      "metadata": {
        "colab": {
          "base_uri": "https://localhost:8080/"
        },
        "id": "ZLMo34nHF_zR",
        "outputId": "e1773d72-ab97-4777-9ca6-7610cb23c604"
      },
      "execution_count": 36,
      "outputs": [
        {
          "output_type": "execute_result",
          "data": {
            "text/plain": [
              "['Clubs', 'Spades', 'Hearts', 'Diamonds']"
            ]
          },
          "metadata": {},
          "execution_count": 36
        }
      ]
    },
    {
      "cell_type": "code",
      "source": [
        "suits[0]"
      ],
      "metadata": {
        "colab": {
          "base_uri": "https://localhost:8080/",
          "height": 35
        },
        "id": "2i8K8IpbGI-n",
        "outputId": "4fc3501a-3d0c-4f01-a6fc-9f4cc2773a1c"
      },
      "execution_count": 37,
      "outputs": [
        {
          "output_type": "execute_result",
          "data": {
            "text/plain": [
              "'Clubs'"
            ],
            "application/vnd.google.colaboratory.intrinsic+json": {
              "type": "string"
            }
          },
          "metadata": {},
          "execution_count": 37
        }
      ]
    },
    {
      "cell_type": "code",
      "source": [
        "names[1]"
      ],
      "metadata": {
        "colab": {
          "base_uri": "https://localhost:8080/",
          "height": 35
        },
        "id": "STE09eHFGKsn",
        "outputId": "9dd63336-9129-4900-df8a-2ff825efd0d9"
      },
      "execution_count": 38,
      "outputs": [
        {
          "output_type": "execute_result",
          "data": {
            "text/plain": [
              "'Two'"
            ],
            "application/vnd.google.colaboratory.intrinsic+json": {
              "type": "string"
            }
          },
          "metadata": {},
          "execution_count": 38
        }
      ]
    },
    {
      "cell_type": "code",
      "source": [
        "def card_name(card_number):\n",
        "\n",
        "    suit = card_number//13\n",
        "    name = card_number%13\n",
        "\n",
        "    return names[name] + \" of \" + suits[suit]"
      ],
      "metadata": {
        "id": "-8n5zdJSGMnX"
      },
      "execution_count": 49,
      "outputs": []
    },
    {
      "cell_type": "code",
      "source": [
        "card_name(51)"
      ],
      "metadata": {
        "colab": {
          "base_uri": "https://localhost:8080/",
          "height": 35
        },
        "id": "WCp56oVuGsi9",
        "outputId": "db8aa750-9ae9-40c4-db79-07070a8f1004"
      },
      "execution_count": 50,
      "outputs": [
        {
          "output_type": "execute_result",
          "data": {
            "text/plain": [
              "'King of Diamonds'"
            ],
            "application/vnd.google.colaboratory.intrinsic+json": {
              "type": "string"
            }
          },
          "metadata": {},
          "execution_count": 50
        }
      ]
    },
    {
      "cell_type": "code",
      "source": [
        "cards = np.random.permutation(52)"
      ],
      "metadata": {
        "id": "yqANvY5xHF5I"
      },
      "execution_count": 51,
      "outputs": []
    },
    {
      "cell_type": "code",
      "source": [
        "top_of_deck         = card_name(cards[0])\n",
        "second_card_in_deck = card_name(cards[1])\n",
        "last_card_in_deck   = card_name(cards[-1])"
      ],
      "metadata": {
        "id": "SlMyl1aUHzV3"
      },
      "execution_count": 52,
      "outputs": []
    },
    {
      "cell_type": "code",
      "source": [
        "top_of_deck,second_card_in_deck,last_card_in_deck"
      ],
      "metadata": {
        "colab": {
          "base_uri": "https://localhost:8080/"
        },
        "id": "fVFlymbYIJ0n",
        "outputId": "d07d7955-d0f5-4ed0-ccc6-ffacbbc9c077"
      },
      "execution_count": 53,
      "outputs": [
        {
          "output_type": "execute_result",
          "data": {
            "text/plain": [
              "('Ace of Hearts', 'Jack of Diamonds', 'Five of Spades')"
            ]
          },
          "metadata": {},
          "execution_count": 53
        }
      ]
    },
    {
      "cell_type": "code",
      "source": [
        "for i in range(5):\n",
        "    print(card_name(cards[i]))"
      ],
      "metadata": {
        "colab": {
          "base_uri": "https://localhost:8080/"
        },
        "id": "TdGI8MNfIO1X",
        "outputId": "129e19a3-6f1c-4f3c-e064-c8aaadfb4668"
      },
      "execution_count": 54,
      "outputs": [
        {
          "output_type": "stream",
          "name": "stdout",
          "text": [
            "Ace of Hearts\n",
            "Jack of Diamonds\n",
            "Three of Diamonds\n",
            "Two of Diamonds\n",
            "Seven of Diamonds\n"
          ]
        }
      ]
    },
    {
      "cell_type": "code",
      "source": [
        "for i in range(15):\n",
        "    print(card_name(cards[i]))"
      ],
      "metadata": {
        "colab": {
          "base_uri": "https://localhost:8080/"
        },
        "id": "v7WYHmAnIW64",
        "outputId": "599bc7d7-9e21-4693-8b2d-e9caf536f890"
      },
      "execution_count": 55,
      "outputs": [
        {
          "output_type": "stream",
          "name": "stdout",
          "text": [
            "Ace of Hearts\n",
            "Jack of Diamonds\n",
            "Three of Diamonds\n",
            "Two of Diamonds\n",
            "Seven of Diamonds\n",
            "Two of Spades\n",
            "Three of Clubs\n",
            "Jack of Spades\n",
            "Two of Hearts\n",
            "Nine of Hearts\n",
            "Queen of Hearts\n",
            "Three of Hearts\n",
            "Seven of Hearts\n",
            "Jack of Hearts\n",
            "Four of Diamonds\n"
          ]
        }
      ]
    },
    {
      "cell_type": "code",
      "source": [
        "card_url_head = \"htpps://www.improvemagic.com/wp-content/uploads/2020/11/\"\n",
        "card_url_tail = \".png\""
      ],
      "metadata": {
        "id": "q2HPUw98JLtZ"
      },
      "execution_count": 56,
      "outputs": []
    },
    {
      "cell_type": "code",
      "source": [
        "suit = ['k','p','s','l']\n",
        "card = ['a','2','3','4','5','6','7','8','9','10','j','q','k']"
      ],
      "metadata": {
        "id": "nEWxRGrAJp5q"
      },
      "execution_count": 57,
      "outputs": []
    },
    {
      "cell_type": "code",
      "source": [
        "i = np.random.randint(4)\n",
        "j = np.random.randint(13)"
      ],
      "metadata": {
        "id": "-QtujFE7KEI7"
      },
      "execution_count": 58,
      "outputs": []
    },
    {
      "cell_type": "code",
      "source": [
        "i,j"
      ],
      "metadata": {
        "colab": {
          "base_uri": "https://localhost:8080/"
        },
        "id": "fMgh534sKKOL",
        "outputId": "f7689466-7588-46c1-fd3a-61a6de4abf61"
      },
      "execution_count": 59,
      "outputs": [
        {
          "output_type": "execute_result",
          "data": {
            "text/plain": [
              "(3, 8)"
            ]
          },
          "metadata": {},
          "execution_count": 59
        }
      ]
    },
    {
      "cell_type": "code",
      "source": [
        "suit[i]"
      ],
      "metadata": {
        "colab": {
          "base_uri": "https://localhost:8080/",
          "height": 35
        },
        "id": "X4Z3E5Y4KT4b",
        "outputId": "c21dc186-6c51-4b6f-a631-12e50a472466"
      },
      "execution_count": 60,
      "outputs": [
        {
          "output_type": "execute_result",
          "data": {
            "text/plain": [
              "'l'"
            ],
            "application/vnd.google.colaboratory.intrinsic+json": {
              "type": "string"
            }
          },
          "metadata": {},
          "execution_count": 60
        }
      ]
    },
    {
      "cell_type": "code",
      "source": [
        "card[j]"
      ],
      "metadata": {
        "colab": {
          "base_uri": "https://localhost:8080/",
          "height": 35
        },
        "id": "sxSWNdW6KXxr",
        "outputId": "a1e1ac02-df8a-4fa1-9cc4-1c46a8ee66a2"
      },
      "execution_count": 61,
      "outputs": [
        {
          "output_type": "execute_result",
          "data": {
            "text/plain": [
              "'9'"
            ],
            "application/vnd.google.colaboratory.intrinsic+json": {
              "type": "string"
            }
          },
          "metadata": {},
          "execution_count": 61
        }
      ]
    },
    {
      "cell_type": "code",
      "source": [
        "from IPython.core.display import display, HTML"
      ],
      "metadata": {
        "id": "mkB6E_agLAhO"
      },
      "execution_count": 66,
      "outputs": []
    },
    {
      "cell_type": "code",
      "source": [
        "def show_img(img):\n",
        "  display(HTML('<img src=' + img + '>'))"
      ],
      "metadata": {
        "id": "iR3MhEI0KaJ7"
      },
      "execution_count": 62,
      "outputs": []
    },
    {
      "cell_type": "code",
      "source": [
        "img = card_url_head + suit[i] + card[j] + card_url_tail"
      ],
      "metadata": {
        "id": "ah9rqRu-K1wL"
      },
      "execution_count": 63,
      "outputs": []
    },
    {
      "cell_type": "code",
      "source": [
        "show_img(img)"
      ],
      "metadata": {
        "colab": {
          "base_uri": "https://localhost:8080/",
          "height": 37
        },
        "id": "bNOjk7rILI3b",
        "outputId": "45b815c1-3b74-462f-c4bf-773c6ca0b2eb"
      },
      "execution_count": 70,
      "outputs": [
        {
          "output_type": "display_data",
          "data": {
            "text/plain": [
              "<IPython.core.display.HTML object>"
            ],
            "text/html": [
              "<img src=htpps://www.improvemagic.com/wp-content/uploads/2020/11/l9.png>"
            ]
          },
          "metadata": {}
        }
      ]
    },
    {
      "cell_type": "code",
      "source": [],
      "metadata": {
        "id": "g7JHA2KwLKu8"
      },
      "execution_count": null,
      "outputs": []
    }
  ]
}